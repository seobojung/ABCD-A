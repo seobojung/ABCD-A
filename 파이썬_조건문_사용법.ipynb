{
  "nbformat": 4,
  "nbformat_minor": 0,
  "metadata": {
    "colab": {
      "provenance": [],
      "authorship_tag": "ABX9TyMuY4MKwGevo+9AyLmiivvE",
      "include_colab_link": true
    },
    "kernelspec": {
      "name": "python3",
      "display_name": "Python 3"
    },
    "language_info": {
      "name": "python"
    }
  },
  "cells": [
    {
      "cell_type": "markdown",
      "metadata": {
        "id": "view-in-github",
        "colab_type": "text"
      },
      "source": [
        "<a href=\"https://colab.research.google.com/github/seobojung/ABCD-A/blob/20250328/%ED%8C%8C%EC%9D%B4%EC%8D%AC_%EC%A1%B0%EA%B1%B4%EB%AC%B8_%EC%82%AC%EC%9A%A9%EB%B2%95.ipynb\" target=\"_parent\"><img src=\"https://colab.research.google.com/assets/colab-badge.svg\" alt=\"Open In Colab\"/></a>"
      ]
    },
    {
      "cell_type": "code",
      "execution_count": null,
      "metadata": {
        "colab": {
          "base_uri": "https://localhost:8080/"
        },
        "id": "U-3b5li9G99p",
        "outputId": "908aabfd-d962-4dcf-e5ab-859efcf1e923"
      },
      "outputs": [
        {
          "output_type": "stream",
          "name": "stdout",
          "text": [
            "복권구매\n"
          ]
        }
      ],
      "source": [
        "# name = \"test\"\n",
        "# if name == \"test\":\n",
        "#       print(\"이름이 맞습니다.\")\n",
        "# else:\n",
        "#       print(\"이름이 틀립니다.\")\n",
        "\n",
        "pocket = 1000\n",
        "if pocket == 1000:\n",
        "   print(\"복권구매\")\n",
        "elif pocket == 500:\n",
        "  print(\"껌 구매\")\n",
        "else:\n",
        "  print(\"집\")\n"
      ]
    },
    {
      "cell_type": "code",
      "source": [
        "# a = \"사과\"\n",
        "# b = \"바나나\"\n",
        "# c = \"치즈\"\n",
        "\n",
        "# if a ==\"사과\" or b==\"안바나나\":\n",
        "#   print(\"사과 이거나 바나나 입니다.\")\n",
        "\n",
        "# if a ==\"사과\" or b==\"바나나\":\n",
        "#   print(\"사과 이고 바나나 입니다.\")\n",
        "\n",
        "# if not c ==\"사과\":\n",
        "#   print(\"사과가 아니어야 합니다.\")\n",
        "\n",
        "a = [1, 2, 3, 4, 5, 6, 7, 8,]\n",
        "\n",
        "if 1 in a :\n",
        "  print(\"1 is in a\")\n",
        "\n",
        "if 10 in a :\n",
        "  print(\"10 is in a\")"
      ],
      "metadata": {
        "colab": {
          "base_uri": "https://localhost:8080/"
        },
        "id": "EsvrR84aI8jg",
        "outputId": "f38f79df-47a1-4581-b8ab-a6051d21f8e5"
      },
      "execution_count": null,
      "outputs": [
        {
          "output_type": "stream",
          "name": "stdout",
          "text": [
            "1 is in a\n"
          ]
        }
      ]
    },
    {
      "cell_type": "code",
      "source": [
        "p_class = \"z\" # 등급\n",
        "sel_amount = 79900 # 가격\n",
        "\n",
        "if p_class == \"A\":\n",
        "  sel_amount *= 0.7 # 55930.0\n",
        "  print(sel_amount)\n",
        "elif p_class == \"B\": ## 67915.0\n",
        "  sel_amount *= 0.85\n",
        "  print(sel_amount)\n",
        "elif p_class == \"C\": # 73508.0\n",
        "  sel_amount *= 0.92\n",
        "  print(sel_amount)\n",
        "elif p_class == \"Z\": ## 84900\n",
        "  sel_amount += 5000\n",
        "  print(sel_amount) # 출력결과 84900"
      ],
      "metadata": {
        "id": "IfXQh0lvK6Nf"
      },
      "execution_count": null,
      "outputs": []
    },
    {
      "cell_type": "code",
      "source": [
        "p_class = \"A\"\n",
        "sel_amount = 7900\n",
        "\n",
        "if p_class == \"A\":\n",
        "  sel_amount *= 0.7\n",
        "  print(f'판매가는 {sel_amount}원 입니다.')\n",
        "elif p_class == \"B\":\n",
        "  sel_amount *= 0.85\n",
        "  print(f'판매가는 {sel_amount}원 입니다.')"
      ],
      "metadata": {
        "colab": {
          "base_uri": "https://localhost:8080/"
        },
        "id": "CAq0lYhhM82y",
        "outputId": "8d8996cb-6f3d-4365-9f69-aeb405f75ab4"
      },
      "execution_count": null,
      "outputs": [
        {
          "output_type": "stream",
          "name": "stdout",
          "text": [
            "판매가는 5530.0원 입니다.\n"
          ]
        }
      ]
    },
    {
      "cell_type": "code",
      "source": [
        "X = 2\n",
        "\n",
        "if X%2 == 0:\n",
        "  print(\"Even number\")\n",
        "else:\n",
        "  print(\"Odd Number\")"
      ],
      "metadata": {
        "colab": {
          "base_uri": "https://localhost:8080/"
        },
        "id": "UIgecRHqOJWP",
        "outputId": "71b130dc-01ee-4006-f257-d1c5a578118e"
      },
      "execution_count": null,
      "outputs": [
        {
          "output_type": "stream",
          "name": "stdout",
          "text": [
            "Even number\n"
          ]
        }
      ]
    },
    {
      "cell_type": "code",
      "source": [
        " X = 9\n",
        "# if X < 10:\n",
        "#   print('X는 10보다 작아!')\n",
        "#   if X%2 == 0:\n",
        "#     print('X는 짝수야!')\n",
        "#   else:\n",
        "#     print('X는 홀수야!')\n",
        "# else:\n",
        "#   print('XX는 10보다 커!')\n",
        "#   if X%2 == 0:\n",
        "#     print('X는 짝수야!')\n",
        "\n",
        "if X < 10 and X%2 == 0:\n",
        "   print('X는 10보다 작으면서 짝수야!')\n",
        "if X < 10 and not X%2 == 0:\n",
        "     print('X는 10보다 작으면서 홀수야!')\n",
        "if not X<10 and X%2 == 0:\n",
        "  print('X는 10보다 크면서 짝수야!')\n",
        "if not X<10 and not X%2 == 0:\n",
        "  print('X는 10보다 크면서 홀수랴!')"
      ],
      "metadata": {
        "colab": {
          "base_uri": "https://localhost:8080/"
        },
        "id": "OJnzEzzhdR2v",
        "outputId": "8dbfd8a3-cafa-4459-e400-245f4ffba2ea"
      },
      "execution_count": null,
      "outputs": [
        {
          "output_type": "stream",
          "name": "stdout",
          "text": [
            "X는 10보다 작으면서 홀수야!\n"
          ]
        }
      ]
    },
    {
      "cell_type": "code",
      "source": [
        "treeHit = 0\n",
        "while treeHit < 10:\n",
        "  treeHit = treeHit +1\n",
        "  print(\"나무를 %d번 찍었습니다.\" % treeHit)\n",
        "  if treeHit == 10:\n",
        "    print(\"나무 넘어갑니다.\")"
      ],
      "metadata": {
        "colab": {
          "base_uri": "https://localhost:8080/"
        },
        "id": "Z9VBGTVCwh3D",
        "outputId": "2bf42c30-25c4-42ce-e8de-e28d35708fdd"
      },
      "execution_count": null,
      "outputs": [
        {
          "output_type": "stream",
          "name": "stdout",
          "text": [
            "나무를 1번 찍었습니다.\n",
            "나무를 2번 찍었습니다.\n",
            "나무를 3번 찍었습니다.\n",
            "나무를 4번 찍었습니다.\n",
            "나무를 5번 찍었습니다.\n",
            "나무를 6번 찍었습니다.\n",
            "나무를 7번 찍었습니다.\n",
            "나무를 8번 찍었습니다.\n",
            "나무를 9번 찍었습니다.\n",
            "나무를 10번 찍었습니다.\n",
            "나무 넘어갑니다.\n"
          ]
        }
      ]
    },
    {
      "cell_type": "code",
      "source": [
        "coffee = 10\n",
        "money = 300\n",
        "while money:\n",
        "    print(\"돈을 받았으니 커피를 줍니다.\")\n",
        "    coffee = coffee -1\n",
        "    print(\"남은 커피의 양은 %d 개 입니다.\" % coffee)\n",
        "    if coffee == 0:\n",
        "      print(\"커피가 다 떨어졌습니다. 판매를 중지합니다.\")\n",
        "      break"
      ],
      "metadata": {
        "colab": {
          "base_uri": "https://localhost:8080/"
        },
        "id": "synYL7GoxI9m",
        "outputId": "e0f89be3-17d3-4a2f-d720-5fcd70e2e458"
      },
      "execution_count": null,
      "outputs": [
        {
          "output_type": "stream",
          "name": "stdout",
          "text": [
            "돈을 받았으니 커피를 줍니다.\n",
            "남은 커피의 양은 9 개 입니다.\n",
            "돈을 받았으니 커피를 줍니다.\n",
            "남은 커피의 양은 8 개 입니다.\n",
            "돈을 받았으니 커피를 줍니다.\n",
            "남은 커피의 양은 7 개 입니다.\n",
            "돈을 받았으니 커피를 줍니다.\n",
            "남은 커피의 양은 6 개 입니다.\n",
            "돈을 받았으니 커피를 줍니다.\n",
            "남은 커피의 양은 5 개 입니다.\n",
            "돈을 받았으니 커피를 줍니다.\n",
            "남은 커피의 양은 4 개 입니다.\n",
            "돈을 받았으니 커피를 줍니다.\n",
            "남은 커피의 양은 3 개 입니다.\n",
            "돈을 받았으니 커피를 줍니다.\n",
            "남은 커피의 양은 2 개 입니다.\n",
            "돈을 받았으니 커피를 줍니다.\n",
            "남은 커피의 양은 1 개 입니다.\n",
            "돈을 받았으니 커피를 줍니다.\n",
            "남은 커피의 양은 0 개 입니다.\n",
            "커피가 다 떨어졌습니다. 판매를 중지합니다.\n"
          ]
        }
      ]
    },
    {
      "cell_type": "code",
      "source": [
        "# while True:\n",
        "#     print(\"ctrl+c를 눌러야 while문을 빠져나갈 수 있습니다.\")\n",
        "\n",
        "\n",
        "i = 0\n",
        "result1 = 0\n",
        "while i < 100:\n",
        "    i = i + 2\n",
        "    #if i % 2 == 0:\n",
        "    print('1번 방법 : {0} {1}'.format(i, result1))\n",
        "    result1 = result1"
      ],
      "metadata": {
        "colab": {
          "base_uri": "https://localhost:8080/"
        },
        "id": "7l-tsyPwyvP0",
        "outputId": "65d2e31e-c0ec-47d9-f5ae-700ec9a32ad2"
      },
      "execution_count": null,
      "outputs": [
        {
          "output_type": "stream",
          "name": "stdout",
          "text": [
            "1번 방법 : 2 0\n",
            "1번 방법 : 4 0\n",
            "1번 방법 : 6 0\n",
            "1번 방법 : 8 0\n",
            "1번 방법 : 10 0\n",
            "1번 방법 : 12 0\n",
            "1번 방법 : 14 0\n",
            "1번 방법 : 16 0\n",
            "1번 방법 : 18 0\n",
            "1번 방법 : 20 0\n",
            "1번 방법 : 22 0\n",
            "1번 방법 : 24 0\n",
            "1번 방법 : 26 0\n",
            "1번 방법 : 28 0\n",
            "1번 방법 : 30 0\n",
            "1번 방법 : 32 0\n",
            "1번 방법 : 34 0\n",
            "1번 방법 : 36 0\n",
            "1번 방법 : 38 0\n",
            "1번 방법 : 40 0\n",
            "1번 방법 : 42 0\n",
            "1번 방법 : 44 0\n",
            "1번 방법 : 46 0\n",
            "1번 방법 : 48 0\n",
            "1번 방법 : 50 0\n",
            "1번 방법 : 52 0\n",
            "1번 방법 : 54 0\n",
            "1번 방법 : 56 0\n",
            "1번 방법 : 58 0\n",
            "1번 방법 : 60 0\n",
            "1번 방법 : 62 0\n",
            "1번 방법 : 64 0\n",
            "1번 방법 : 66 0\n",
            "1번 방법 : 68 0\n",
            "1번 방법 : 70 0\n",
            "1번 방법 : 72 0\n",
            "1번 방법 : 74 0\n",
            "1번 방법 : 76 0\n",
            "1번 방법 : 78 0\n",
            "1번 방법 : 80 0\n",
            "1번 방법 : 82 0\n",
            "1번 방법 : 84 0\n",
            "1번 방법 : 86 0\n",
            "1번 방법 : 88 0\n",
            "1번 방법 : 90 0\n",
            "1번 방법 : 92 0\n",
            "1번 방법 : 94 0\n",
            "1번 방법 : 96 0\n",
            "1번 방법 : 98 0\n",
            "1번 방법 : 100 0\n"
          ]
        }
      ]
    },
    {
      "cell_type": "code",
      "source": [
        "j = 0\n",
        "result2 = 0\n",
        "while True:\n",
        "  if j > 100:\n",
        "      break\n",
        "\n",
        "  j = j + 1\n",
        "  if j % 2 == 0:\n",
        "      result2 = result2 + j\n",
        "      print('2번 방법 (break) : {0}'.format(result2))"
      ],
      "metadata": {
        "colab": {
          "base_uri": "https://localhost:8080/"
        },
        "id": "Z_qJNGqJ3G_t",
        "outputId": "1984e6b4-bf24-4ebe-e927-7dee978c845c"
      },
      "execution_count": null,
      "outputs": [
        {
          "output_type": "stream",
          "name": "stdout",
          "text": [
            "2번 방법 (break) : 2\n",
            "2번 방법 (break) : 6\n",
            "2번 방법 (break) : 12\n",
            "2번 방법 (break) : 20\n",
            "2번 방법 (break) : 30\n",
            "2번 방법 (break) : 42\n",
            "2번 방법 (break) : 56\n",
            "2번 방법 (break) : 72\n",
            "2번 방법 (break) : 90\n",
            "2번 방법 (break) : 110\n",
            "2번 방법 (break) : 132\n",
            "2번 방법 (break) : 156\n",
            "2번 방법 (break) : 182\n",
            "2번 방법 (break) : 210\n",
            "2번 방법 (break) : 240\n",
            "2번 방법 (break) : 272\n",
            "2번 방법 (break) : 306\n",
            "2번 방법 (break) : 342\n",
            "2번 방법 (break) : 380\n",
            "2번 방법 (break) : 420\n",
            "2번 방법 (break) : 462\n",
            "2번 방법 (break) : 506\n",
            "2번 방법 (break) : 552\n",
            "2번 방법 (break) : 600\n",
            "2번 방법 (break) : 650\n",
            "2번 방법 (break) : 702\n",
            "2번 방법 (break) : 756\n",
            "2번 방법 (break) : 812\n",
            "2번 방법 (break) : 870\n",
            "2번 방법 (break) : 930\n",
            "2번 방법 (break) : 992\n",
            "2번 방법 (break) : 1056\n",
            "2번 방법 (break) : 1122\n",
            "2번 방법 (break) : 1190\n",
            "2번 방법 (break) : 1260\n",
            "2번 방법 (break) : 1332\n",
            "2번 방법 (break) : 1406\n",
            "2번 방법 (break) : 1482\n",
            "2번 방법 (break) : 1560\n",
            "2번 방법 (break) : 1640\n",
            "2번 방법 (break) : 1722\n",
            "2번 방법 (break) : 1806\n",
            "2번 방법 (break) : 1892\n",
            "2번 방법 (break) : 1980\n",
            "2번 방법 (break) : 2070\n",
            "2번 방법 (break) : 2162\n",
            "2번 방법 (break) : 2256\n",
            "2번 방법 (break) : 2352\n",
            "2번 방법 (break) : 2450\n",
            "2번 방법 (break) : 2550\n"
          ]
        }
      ]
    },
    {
      "cell_type": "code",
      "source": [
        "k = 0\n",
        "result3 = 0\n",
        "while k < 100:\n",
        "    k = k + 1\n",
        "    if k % 2 !=0:\n",
        "        callable\n",
        "    result3 = result3 + k\n",
        "    print('3번 방법 (continue) : (0)'.format(result3))"
      ],
      "metadata": {
        "colab": {
          "base_uri": "https://localhost:8080/"
        },
        "id": "LZutQz845V8l",
        "outputId": "80c0145d-cae6-4ee2-d933-05fa01032bd1"
      },
      "execution_count": null,
      "outputs": [
        {
          "output_type": "stream",
          "name": "stdout",
          "text": [
            "3번 방법 (continue) : (0)\n",
            "3번 방법 (continue) : (0)\n",
            "3번 방법 (continue) : (0)\n",
            "3번 방법 (continue) : (0)\n",
            "3번 방법 (continue) : (0)\n",
            "3번 방법 (continue) : (0)\n",
            "3번 방법 (continue) : (0)\n",
            "3번 방법 (continue) : (0)\n",
            "3번 방법 (continue) : (0)\n",
            "3번 방법 (continue) : (0)\n",
            "3번 방법 (continue) : (0)\n",
            "3번 방법 (continue) : (0)\n",
            "3번 방법 (continue) : (0)\n",
            "3번 방법 (continue) : (0)\n",
            "3번 방법 (continue) : (0)\n",
            "3번 방법 (continue) : (0)\n",
            "3번 방법 (continue) : (0)\n",
            "3번 방법 (continue) : (0)\n",
            "3번 방법 (continue) : (0)\n",
            "3번 방법 (continue) : (0)\n",
            "3번 방법 (continue) : (0)\n",
            "3번 방법 (continue) : (0)\n",
            "3번 방법 (continue) : (0)\n",
            "3번 방법 (continue) : (0)\n",
            "3번 방법 (continue) : (0)\n",
            "3번 방법 (continue) : (0)\n",
            "3번 방법 (continue) : (0)\n",
            "3번 방법 (continue) : (0)\n",
            "3번 방법 (continue) : (0)\n",
            "3번 방법 (continue) : (0)\n",
            "3번 방법 (continue) : (0)\n",
            "3번 방법 (continue) : (0)\n",
            "3번 방법 (continue) : (0)\n",
            "3번 방법 (continue) : (0)\n",
            "3번 방법 (continue) : (0)\n",
            "3번 방법 (continue) : (0)\n",
            "3번 방법 (continue) : (0)\n",
            "3번 방법 (continue) : (0)\n",
            "3번 방법 (continue) : (0)\n",
            "3번 방법 (continue) : (0)\n",
            "3번 방법 (continue) : (0)\n",
            "3번 방법 (continue) : (0)\n",
            "3번 방법 (continue) : (0)\n",
            "3번 방법 (continue) : (0)\n",
            "3번 방법 (continue) : (0)\n",
            "3번 방법 (continue) : (0)\n",
            "3번 방법 (continue) : (0)\n",
            "3번 방법 (continue) : (0)\n",
            "3번 방법 (continue) : (0)\n",
            "3번 방법 (continue) : (0)\n",
            "3번 방법 (continue) : (0)\n",
            "3번 방법 (continue) : (0)\n",
            "3번 방법 (continue) : (0)\n",
            "3번 방법 (continue) : (0)\n",
            "3번 방법 (continue) : (0)\n",
            "3번 방법 (continue) : (0)\n",
            "3번 방법 (continue) : (0)\n",
            "3번 방법 (continue) : (0)\n",
            "3번 방법 (continue) : (0)\n",
            "3번 방법 (continue) : (0)\n",
            "3번 방법 (continue) : (0)\n",
            "3번 방법 (continue) : (0)\n",
            "3번 방법 (continue) : (0)\n",
            "3번 방법 (continue) : (0)\n",
            "3번 방법 (continue) : (0)\n",
            "3번 방법 (continue) : (0)\n",
            "3번 방법 (continue) : (0)\n",
            "3번 방법 (continue) : (0)\n",
            "3번 방법 (continue) : (0)\n",
            "3번 방법 (continue) : (0)\n",
            "3번 방법 (continue) : (0)\n",
            "3번 방법 (continue) : (0)\n",
            "3번 방법 (continue) : (0)\n",
            "3번 방법 (continue) : (0)\n",
            "3번 방법 (continue) : (0)\n",
            "3번 방법 (continue) : (0)\n",
            "3번 방법 (continue) : (0)\n",
            "3번 방법 (continue) : (0)\n",
            "3번 방법 (continue) : (0)\n",
            "3번 방법 (continue) : (0)\n",
            "3번 방법 (continue) : (0)\n",
            "3번 방법 (continue) : (0)\n",
            "3번 방법 (continue) : (0)\n",
            "3번 방법 (continue) : (0)\n",
            "3번 방법 (continue) : (0)\n",
            "3번 방법 (continue) : (0)\n",
            "3번 방법 (continue) : (0)\n",
            "3번 방법 (continue) : (0)\n",
            "3번 방법 (continue) : (0)\n",
            "3번 방법 (continue) : (0)\n",
            "3번 방법 (continue) : (0)\n",
            "3번 방법 (continue) : (0)\n",
            "3번 방법 (continue) : (0)\n",
            "3번 방법 (continue) : (0)\n",
            "3번 방법 (continue) : (0)\n",
            "3번 방법 (continue) : (0)\n",
            "3번 방법 (continue) : (0)\n",
            "3번 방법 (continue) : (0)\n",
            "3번 방법 (continue) : (0)\n",
            "3번 방법 (continue) : (0)\n"
          ]
        }
      ]
    }
  ]
}