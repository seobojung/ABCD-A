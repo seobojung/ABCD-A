{
  "nbformat": 4,
  "nbformat_minor": 0,
  "metadata": {
    "colab": {
      "provenance": [],
      "authorship_tag": "ABX9TyOTKX01Ca7ZfkW7vyGQ31nu",
      "include_colab_link": true
    },
    "kernelspec": {
      "name": "python3",
      "display_name": "Python 3"
    },
    "language_info": {
      "name": "python"
    }
  },
  "cells": [
    {
      "cell_type": "markdown",
      "metadata": {
        "id": "view-in-github",
        "colab_type": "text"
      },
      "source": [
        "<a href=\"https://colab.research.google.com/github/seobojung/ABCD-A/blob/20250407/%ED%8C%8C%EC%9D%B4%EC%8D%AC_%EA%B8%B0%EC%B4%88_%EC%9E%85%EB%A0%A5%EA%B3%BC_%EB%B0%98%EB%B3%B5%EB%AC%B8.ipynb\" target=\"_parent\"><img src=\"https://colab.research.google.com/assets/colab-badge.svg\" alt=\"Open In Colab\"/></a>"
      ]
    },
    {
      "cell_type": "code",
      "execution_count": null,
      "metadata": {
        "id": "oCK44WJte3TW",
        "colab": {
          "base_uri": "https://localhost:8080/"
        },
        "outputId": "134a572d-1c87-4ded-b363-20eaf446d149"
      },
      "outputs": [
        {
          "output_type": "stream",
          "name": "stdout",
          "text": [
            "How old are you?:20\n",
            "20  years old\n"
          ]
        }
      ],
      "source": [
        "str = input(\"How old are you?:\")\n",
        "print(str, ' years old')"
      ]
    },
    {
      "cell_type": "code",
      "source": [
        "#x = int(input('number: '))\n",
        "##print(x)\n",
        "\n",
        "y = float(input('number: '))\n",
        "print(y)"
      ],
      "metadata": {
        "colab": {
          "base_uri": "https://localhost:8080/"
        },
        "id": "ps-XNFrFjcj_",
        "outputId": "71f46e49-48c3-4cbf-f0c4-4593b5b7a629"
      },
      "execution_count": null,
      "outputs": [
        {
          "output_type": "stream",
          "name": "stdout",
          "text": [
            "number: 1\n",
            "1.0\n"
          ]
        }
      ]
    },
    {
      "cell_type": "code",
      "source": [
        "year = input(\"This year: \")\n",
        "year = eval(year)\n",
        "year = year + 1\n",
        "print('Next year: ', year)"
      ],
      "metadata": {
        "colab": {
          "base_uri": "https://localhost:8080/"
        },
        "id": "VzrQvsjpkmbz",
        "outputId": "4bbfcf3d-5246-4066-b38f-7a4a93c5bd48"
      },
      "execution_count": null,
      "outputs": [
        {
          "output_type": "stream",
          "name": "stdout",
          "text": [
            "This year: 2022.0\n",
            "Next year:  2023.0\n"
          ]
        }
      ]
    },
    {
      "cell_type": "code",
      "source": [
        "i = 0\n",
        "result = 0\n",
        "while i < 5:\n",
        "  print(f'{i + 1}번째')\n",
        "  a = input('성적 입력: ')\n",
        "  result += int(a)\n",
        "  i += 1\n",
        "\n",
        "print(f'합: {result}')\n",
        "print(f'평균: {result / 5}')"
      ],
      "metadata": {
        "colab": {
          "base_uri": "https://localhost:8080/"
        },
        "id": "ofm09e-2lZvY",
        "outputId": "3e5b6f72-2a65-4958-fc95-484ce10d1a69"
      },
      "execution_count": null,
      "outputs": [
        {
          "output_type": "stream",
          "name": "stdout",
          "text": [
            "1번째\n",
            "성적 입력: 10\n",
            "2번째\n",
            "성적 입력: 20\n",
            "3번째\n",
            "성적 입력: 30\n",
            "4번째\n",
            "성적 입력: 40\n",
            "5번째\n",
            "성적 입력: 50\n",
            "합: 150\n",
            "평균: 30.0\n"
          ]
        }
      ]
    },
    {
      "cell_type": "code",
      "source": [
        "#test_list = ['one', 'two', 'three']\n",
        "#for i in test_list:\n",
        " # print(i)\n",
        "\n",
        "for i in range(10):\n",
        "  print(i)"
      ],
      "metadata": {
        "colab": {
          "base_uri": "https://localhost:8080/"
        },
        "id": "4lrScYA9qzfn",
        "outputId": "f0f99ce2-3693-4299-aad7-8bf597d56303"
      },
      "execution_count": null,
      "outputs": [
        {
          "output_type": "stream",
          "name": "stdout",
          "text": [
            "0\n",
            "1\n",
            "2\n",
            "3\n",
            "4\n",
            "5\n",
            "6\n",
            "7\n",
            "8\n",
            "9\n"
          ]
        }
      ]
    },
    {
      "cell_type": "code",
      "source": [
        "result = 0\n",
        "for a in range(1, 101):\n",
        "  result = result + a\n",
        "  print(f'{a} sum- {result}')\n",
        "  if result > 100:\n",
        "    break\n",
        "\n",
        "print(result)"
      ],
      "metadata": {
        "colab": {
          "base_uri": "https://localhost:8080/"
        },
        "id": "9JBQwcrCrpk8",
        "outputId": "65c70d8a-e7e3-4a1c-cf57-e5c879bd1b5f"
      },
      "execution_count": null,
      "outputs": [
        {
          "output_type": "stream",
          "name": "stdout",
          "text": [
            "1 sum- 1\n",
            "2 sum- 3\n",
            "3 sum- 6\n",
            "4 sum- 10\n",
            "5 sum- 15\n",
            "6 sum- 21\n",
            "7 sum- 28\n",
            "8 sum- 36\n",
            "9 sum- 45\n",
            "10 sum- 55\n",
            "11 sum- 66\n",
            "12 sum- 78\n",
            "13 sum- 91\n",
            "14 sum- 105\n",
            "105\n"
          ]
        }
      ]
    },
    {
      "cell_type": "code",
      "source": [
        "index = 0\n",
        "s = \"BlockDMask\"\n",
        "for a in s:\n",
        "  print(a, end=' ')\n",
        "  if a == 'k':\n",
        "    break\n",
        "\n",
        "    index = index + 1\n",
        "print(index)"
      ],
      "metadata": {
        "id": "ncD8VhuNrL79",
        "colab": {
          "base_uri": "https://localhost:8080/"
        },
        "outputId": "7f34e968-cb7a-4383-fbda-bda5156605b8"
      },
      "execution_count": 4,
      "outputs": [
        {
          "output_type": "stream",
          "name": "stdout",
          "text": [
            "B l o c k 0\n"
          ]
        }
      ]
    },
    {
      "cell_type": "code",
      "source": [
        "student = [180, 170, 164, 199, 182, 172, 177]\n",
        "for a in student:\n",
        "  if a < 170:\n",
        "    continue\n",
        "print(a)"
      ],
      "metadata": {
        "colab": {
          "base_uri": "https://localhost:8080/"
        },
        "id": "T22ei0pEu2_c",
        "outputId": "ffb8d4a1-d3c4-4986-9c7b-0b04ab8a6554"
      },
      "execution_count": 16,
      "outputs": [
        {
          "output_type": "stream",
          "name": "stdout",
          "text": [
            "177\n"
          ]
        }
      ]
    },
    {
      "cell_type": "code",
      "source": [
        "i = ['alice', 'bob', 'charlie']\n",
        "\n",
        "for name in i:\n",
        "  if name == 'bob':\n",
        "    print('break!')\n",
        "    break\n",
        "  print(name)\n",
        "else:\n",
        "  print('!! finish')"
      ],
      "metadata": {
        "colab": {
          "base_uri": "https://localhost:8080/"
        },
        "id": "f6BTmaiLzTd1",
        "outputId": "65de23bf-a867-4c69-8bf8-1bc59557fe40"
      },
      "execution_count": 22,
      "outputs": [
        {
          "output_type": "stream",
          "name": "stdout",
          "text": [
            "alice\n",
            "break!\n"
          ]
        }
      ]
    },
    {
      "cell_type": "code",
      "source": [
        "sr = ['father', 'mother', 'brother']\n",
        "cnt = 0\n",
        "for s in sr:\n",
        "  for c in s:\n",
        "    if c == 'r':\n",
        "      cnt += 1\n",
        "print(cnt)\n"
      ],
      "metadata": {
        "colab": {
          "base_uri": "https://localhost:8080/"
        },
        "id": "HQign1fbyTDd",
        "outputId": "e1cb9274-8f8d-40b5-964d-a557cbb774f4"
      },
      "execution_count": 18,
      "outputs": [
        {
          "output_type": "stream",
          "name": "stdout",
          "text": [
            "4\n"
          ]
        }
      ]
    },
    {
      "cell_type": "code",
      "source": [
        "a = [ ]\n",
        "for i in range(3):\n",
        "  line = [ ]\n",
        "  for j in range(2):\n",
        "    line.append(j + i)\n",
        "  a.append(line)\n",
        "print(a)"
      ],
      "metadata": {
        "colab": {
          "base_uri": "https://localhost:8080/"
        },
        "id": "43CK5nYe0r6E",
        "outputId": "50df059f-6854-44a2-bfbe-a6acf877a612"
      },
      "execution_count": 27,
      "outputs": [
        {
          "output_type": "stream",
          "name": "stdout",
          "text": [
            "[[0, 1], [1, 2], [2, 3]]\n"
          ]
        }
      ]
    },
    {
      "cell_type": "code",
      "source": [
        "i = ['Alice', 'Bob', 'Charlie']\n",
        "\n",
        "for name in i:\n",
        "  print(name)\n",
        "\n",
        "for i, name in enumerate(i):\n",
        "    print(i, name)\n"
      ],
      "metadata": {
        "colab": {
          "base_uri": "https://localhost:8080/"
        },
        "id": "FdpFNzX42FOW",
        "outputId": "0987eac9-5e09-422e-e6ed-299ccab1dfcd"
      },
      "execution_count": 38,
      "outputs": [
        {
          "output_type": "stream",
          "name": "stdout",
          "text": [
            "Alice\n",
            "Bob\n",
            "Charlie\n",
            "0 Alice\n",
            "1 Bob\n",
            "2 Charlie\n"
          ]
        }
      ]
    }
  ]
}