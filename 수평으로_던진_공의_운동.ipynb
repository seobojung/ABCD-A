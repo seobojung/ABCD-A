{
  "nbformat": 4,
  "nbformat_minor": 0,
  "metadata": {
    "colab": {
      "provenance": [],
      "authorship_tag": "ABX9TyM9HDaC/DiiLiGG1DkmbMqX",
      "include_colab_link": true
    },
    "kernelspec": {
      "name": "python3",
      "display_name": "Python 3"
    },
    "language_info": {
      "name": "python"
    }
  },
  "cells": [
    {
      "cell_type": "markdown",
      "metadata": {
        "id": "view-in-github",
        "colab_type": "text"
      },
      "source": [
        "<a href=\"https://colab.research.google.com/github/seobojung/ABCD-A/blob/20250410/%EC%88%98%ED%8F%89%EC%9C%BC%EB%A1%9C_%EB%8D%98%EC%A7%84_%EA%B3%B5%EC%9D%98_%EC%9A%B4%EB%8F%99.ipynb\" target=\"_parent\"><img src=\"https://colab.research.google.com/assets/colab-badge.svg\" alt=\"Open In Colab\"/></a>"
      ]
    },
    {
      "cell_type": "code",
      "execution_count": 4,
      "metadata": {
        "id": "98_X3DeMHIMK"
      },
      "outputs": [],
      "source": [
        "import math"
      ]
    },
    {
      "cell_type": "markdown",
      "source": [
        "수평으로 던진 공의 운동"
      ],
      "metadata": {
        "id": "7CBoNVrBHI4K"
      }
    },
    {
      "cell_type": "code",
      "source": [
        "#초기 속도 입력\n",
        "v0 = float(input())\n",
        "print(\"초기속도 :\", v0, \"m/s\")"
      ],
      "metadata": {
        "colab": {
          "base_uri": "https://localhost:8080/",
          "height": 0
        },
        "id": "laWOIQyLHMGa",
        "outputId": "d4729604-d8d3-4bb1-bbe0-c91710445587"
      },
      "execution_count": 1,
      "outputs": [
        {
          "output_type": "stream",
          "name": "stdout",
          "text": [
            "30\n",
            "초기속도 : 30.0 m/s\n"
          ]
        }
      ]
    },
    {
      "cell_type": "code",
      "source": [
        "#초기 각도 입력\n",
        "angle_degree = float(input())\n",
        "print(\"초기 각도 : \", angle_degree, \"도\")\n",
        "\n",
        "#각도를 radian으로 바꾸기\n",
        "angle_radian = math.radians(angle_degree)\n",
        "print(\"초기각도:\", angle_radian, \"radian\")"
      ],
      "metadata": {
        "colab": {
          "base_uri": "https://localhost:8080/",
          "height": 0
        },
        "id": "8Pa-bBi5HlPh",
        "outputId": "3dade47d-c489-422c-84fc-a48d403d18e3"
      },
      "execution_count": 5,
      "outputs": [
        {
          "output_type": "stream",
          "name": "stdout",
          "text": [
            "30\n",
            "초기 각도 :  30.0 도\n",
            "초기각도: 0.5235987755982988 radian\n"
          ]
        }
      ]
    },
    {
      "cell_type": "code",
      "source": [
        "#x성분의 속도를 구하세요\n",
        "v0x = math.cos(angle_radian) * v0\n",
        "print(\"x축의 초기 속도 :\", v0x, \"m/s\")"
      ],
      "metadata": {
        "colab": {
          "base_uri": "https://localhost:8080/",
          "height": 0
        },
        "id": "CwcQf5QLLh_T",
        "outputId": "d7579ddf-f50f-4020-f32d-298d95c7b1dc"
      },
      "execution_count": 6,
      "outputs": [
        {
          "output_type": "stream",
          "name": "stdout",
          "text": [
            "x축의 초기 속도 : 25.98076211353316 m/s\n"
          ]
        }
      ]
    },
    {
      "cell_type": "code",
      "source": [
        "#y성분의 속도를 구하세요\n",
        "v0y = math.sin(angle_radian) * v0\n",
        "print(\"y축의 초기 속도 :\", v0y, \"m/s\")"
      ],
      "metadata": {
        "colab": {
          "base_uri": "https://localhost:8080/",
          "height": 0
        },
        "id": "aDzpGWXBME_q",
        "outputId": "ced80095-e8cb-4a49-add1-92c336bc85cb"
      },
      "execution_count": 8,
      "outputs": [
        {
          "output_type": "stream",
          "name": "stdout",
          "text": [
            "y축의 초기 속도 : 14.999999999999998 m/s\n"
          ]
        }
      ]
    },
    {
      "cell_type": "code",
      "source": [
        "#최고점의 높이를 구하세요\n",
        "g = 9.8\n",
        "h = (v0y ** 2) / (2 * g)\n",
        "print(\"최고점의 높이 :\", h, \"m\")"
      ],
      "metadata": {
        "colab": {
          "base_uri": "https://localhost:8080/",
          "height": 0
        },
        "id": "CgymHCRBP31D",
        "outputId": "aae1d2d1-5d59-43da-d8a8-5d220f0f405b"
      },
      "execution_count": 15,
      "outputs": [
        {
          "output_type": "stream",
          "name": "stdout",
          "text": [
            "최고점의 높이 : 11.47959183673469 m\n"
          ]
        }
      ]
    },
    {
      "cell_type": "code",
      "source": [
        "#최고점에 도착하는 시간을 구하세요\n",
        "t1 = (v0y * math.sin(angle_radian)) / g\n",
        "print(\"최고점에 도착하는 시간 :\", t1, \"s\")"
      ],
      "metadata": {
        "colab": {
          "base_uri": "https://localhost:8080/",
          "height": 0
        },
        "id": "RPfz25k9MakZ",
        "outputId": "9ce762ec-77cf-4a24-b5af-5ec0c9e1d4e2"
      },
      "execution_count": 16,
      "outputs": [
        {
          "output_type": "stream",
          "name": "stdout",
          "text": [
            "최고점에 도착하는 시간 : 0.7653061224489793 s\n"
          ]
        }
      ]
    },
    {
      "cell_type": "code",
      "source": [
        "#수평으로 이동한 최고 거리를 구하여라\n",
        "Rmax = (v0y ** 2) / g\n",
        "print(\"수평으로 이동한 최고 거리 :\", Rmax, \"m\")"
      ],
      "metadata": {
        "colab": {
          "base_uri": "https://localhost:8080/",
          "height": 0
        },
        "id": "Qzvf93d3Sr4t",
        "outputId": "487ad8d2-c165-43ec-acb2-cf5343d67f06"
      },
      "execution_count": 17,
      "outputs": [
        {
          "output_type": "stream",
          "name": "stdout",
          "text": [
            "수평으로 이동한 최고 거리 : 22.95918367346938 m\n"
          ]
        }
      ]
    },
    {
      "cell_type": "code",
      "source": [
        "#지면에 닿을 때의 vx, vy, v를 구하세요\n",
        "vx = v0x\n",
        "vy = -v0y\n",
        "vf = math.sqrt(vx ** 2 + vy ** 2)\n",
        "print(\"지면에 닿을 때의 vx :\", vx, \"m/s\")\n",
        "print(\"지면에 닿을 때의 vy :\", vy, \"m/s\")\n",
        "print(\"지면에 닿을 때의 vf :\", vf, \"m/s\")"
      ],
      "metadata": {
        "colab": {
          "base_uri": "https://localhost:8080/"
        },
        "id": "_7uorgeJTxVS",
        "outputId": "92bdd26b-96ff-4208-f050-254aef0210d3"
      },
      "execution_count": 18,
      "outputs": [
        {
          "output_type": "stream",
          "name": "stdout",
          "text": [
            "지면에 닿을 때의 vx : 25.98076211353316 m/s\n",
            "지면에 닿을 때의 vy : -14.999999999999998 m/s\n",
            "지면에 닿을 때의 vf : 30.0 m/s\n"
          ]
        }
      ]
    }
  ]
}