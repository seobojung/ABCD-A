{
  "nbformat": 4,
  "nbformat_minor": 0,
  "metadata": {
    "colab": {
      "provenance": [],
      "authorship_tag": "ABX9TyN8RK8koWJ4v546mg/ceo5h",
      "include_colab_link": true
    },
    "kernelspec": {
      "name": "python3",
      "display_name": "Python 3"
    },
    "language_info": {
      "name": "python"
    }
  },
  "cells": [
    {
      "cell_type": "markdown",
      "metadata": {
        "id": "view-in-github",
        "colab_type": "text"
      },
      "source": [
        "<a href=\"https://colab.research.google.com/github/seobojung/ABCD-A/blob/20250310/%ED%8C%8C%EC%9D%B4%EC%8D%AC_%EA%B8%B0%EC%B4%88_%EA%B8%B0%EB%B3%B8_%EB%B3%80%EC%88%98%EC%99%80_%EA%B8%B0%EB%B3%B8_%EC%B6%9C%EB%A0%A520250307.ipynb\" target=\"_parent\"><img src=\"https://colab.research.google.com/assets/colab-badge.svg\" alt=\"Open In Colab\"/></a>"
      ]
    },
    {
      "cell_type": "code",
      "execution_count": null,
      "metadata": {
        "colab": {
          "base_uri": "https://localhost:8080/"
        },
        "id": "SggHEP4sDH8S",
        "outputId": "0213d866-4125-46a7-e2b7-326309bc8271"
      },
      "outputs": [
        {
          "output_type": "stream",
          "name": "stdout",
          "text": [
            "pig\n",
            "dad\n",
            "100000\n",
            "pigdad\n",
            "pig dad\n"
          ]
        }
      ],
      "source": [
        "watch = 100000\n",
        "a = 'pig'\n",
        "b = 'dad'\n",
        "print(a)\n",
        "print(b)\n",
        "print(watch)\n",
        "print(a+b)\n",
        "print(a+' '+b)"
      ]
    },
    {
      "cell_type": "code",
      "source": [
        "a=1\n",
        "b=100\n",
        "a,b = b,a\n",
        "print(a)\n",
        "print(b)"
      ],
      "metadata": {
        "colab": {
          "base_uri": "https://localhost:8080/"
        },
        "id": "XmzB3z2jEjNw",
        "outputId": "6390d8a3-1dc4-4913-ab53-e0d3e4fb829d"
      },
      "execution_count": null,
      "outputs": [
        {
          "output_type": "stream",
          "name": "stdout",
          "text": [
            "100\n",
            "1\n"
          ]
        }
      ]
    },
    {
      "cell_type": "code",
      "source": [
        "# 예제 입니다.\n",
        "\n",
        "a=[10, 20, 30]\n",
        "b=a\n",
        "a[0] = 20\n",
        "print(b)"
      ],
      "metadata": {
        "colab": {
          "base_uri": "https://localhost:8080/"
        },
        "id": "gJ6utfzEE9aL",
        "outputId": "17dc9bb6-c450-401c-84dc-fb33f43bd2ad"
      },
      "execution_count": null,
      "outputs": [
        {
          "output_type": "stream",
          "name": "stdout",
          "text": [
            "[20, 20, 30]\n"
          ]
        }
      ]
    },
    {
      "cell_type": "code",
      "source": [
        "print(\"Hello world\")\n",
        "print('Hello world')\n",
        "print('1')\n"
      ],
      "metadata": {
        "colab": {
          "base_uri": "https://localhost:8080/"
        },
        "id": "geR8JZJNFnrN",
        "outputId": "b84c1f56-cf32-41be-c80b-a149e90dd715"
      },
      "execution_count": null,
      "outputs": [
        {
          "output_type": "stream",
          "name": "stdout",
          "text": [
            "Hello world\n",
            "Hello world\n"
          ]
        }
      ]
    },
    {
      "cell_type": "code",
      "source": [
        "c=1\n",
        "print(\"c=\"+str(c))\n",
        "print(\"c=\",c)\n",
        "print(\"c={}\".format(c))"
      ],
      "metadata": {
        "colab": {
          "base_uri": "https://localhost:8080/"
        },
        "id": "S2dfxe_oGHOW",
        "outputId": "7312d60d-4aa5-468d-8332-513ff7f0fa05"
      },
      "execution_count": null,
      "outputs": [
        {
          "output_type": "stream",
          "name": "stdout",
          "text": [
            "c=1\n",
            "c= 1\n",
            "c=1\n"
          ]
        }
      ]
    },
    {
      "cell_type": "code",
      "source": [
        "a=[10, 20, 30]\n",
        "b=1\n",
        "c=2\n",
        "print(a)\n",
        "print(\"a={}\".format(a))\n",
        "print(\"b={}\".format(b))\n",
        "print(\"a={}, b={}, c={}\".format(a, b, c))\n",
        "print(\"a={}, b={}, c={}\".format(a[0], b, c))"
      ],
      "metadata": {
        "colab": {
          "base_uri": "https://localhost:8080/"
        },
        "id": "J5KW8UDxHWWF",
        "outputId": "e68c3de8-a6a3-4ac6-d027-d523a7d13197"
      },
      "execution_count": null,
      "outputs": [
        {
          "output_type": "stream",
          "name": "stdout",
          "text": [
            "[10, 20, 30]\n",
            "a=[10, 20, 30]\n",
            "b=1\n",
            "a=[10, 20, 30], b=1, c=2\n",
            "a=10, b=1, c=2\n"
          ]
        }
      ]
    }
  ]
}