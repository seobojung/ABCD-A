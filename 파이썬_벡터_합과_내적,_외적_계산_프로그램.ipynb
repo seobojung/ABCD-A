{
  "nbformat": 4,
  "nbformat_minor": 0,
  "metadata": {
    "colab": {
      "provenance": [],
      "authorship_tag": "ABX9TyPpPTf8+tDGhYWMRvsP44ui",
      "include_colab_link": true
    },
    "kernelspec": {
      "name": "python3",
      "display_name": "Python 3"
    },
    "language_info": {
      "name": "python"
    }
  },
  "cells": [
    {
      "cell_type": "markdown",
      "metadata": {
        "id": "view-in-github",
        "colab_type": "text"
      },
      "source": [
        "<a href=\"https://colab.research.google.com/github/seobojung/ABCD-A/blob/20250331/%ED%8C%8C%EC%9D%B4%EC%8D%AC_%EB%B2%A1%ED%84%B0_%ED%95%A9%EA%B3%BC_%EB%82%B4%EC%A0%81%2C_%EC%99%B8%EC%A0%81_%EA%B3%84%EC%82%B0_%ED%94%84%EB%A1%9C%EA%B7%B8%EB%9E%A8.ipynb\" target=\"_parent\"><img src=\"https://colab.research.google.com/assets/colab-badge.svg\" alt=\"Open In Colab\"/></a>"
      ]
    },
    {
      "cell_type": "code",
      "execution_count": null,
      "metadata": {
        "colab": {
          "base_uri": "https://localhost:8080/"
        },
        "id": "OmEdpcQC_BEx",
        "outputId": "0f5ca1b2-77c6-4584-d6e3-4d9e6f95b980"
      },
      "outputs": [
        {
          "output_type": "stream",
          "name": "stdout",
          "text": [
            "첫 번째 벡터의 x성분을 입력하세요:3\n",
            "첫 번째 벡터의 y성분을 입력하세요:4\n",
            "두 번째 벡터의 x성분을 입력하세요:2\n",
            "두 번째 벡터의 y성분을 입력하세요:3\n",
            "\n",
            "벡터 1: 3.0 i + 4.0 j\n",
            "벡터2: 2.0 i + 3.0 j\n",
            "\n",
            "벡터의 합: 5.0 i + 7.0 j\n",
            "벡터의 내적: 18.0\n",
            "벡터의 외적: 1.0\n"
          ]
        }
      ],
      "source": [
        "# 2차원 벡터 연산 - google colab에서 실행하기 위한 코드\n",
        "\n",
        "# 첫 번째 벡터 입력 받기\n",
        "x1 = float(input(\"첫 번째 벡터의 x성분을 입력하세요:\"))\n",
        "y1 = float(input(\"첫 번째 벡터의 y성분을 입력하세요:\"))\n",
        "\n",
        "# 두번쨰 벡터 입력 받기\n",
        "x2 = float(input(\"두 번째 벡터의 x성분을 입력하세요:\"))\n",
        "y2 = float(input(\"두 번째 벡터의 y성분을 입력하세요:\"))\n",
        "\n",
        "# 벡터의 합 계산\n",
        "sum_x = x1 + x2\n",
        "sum_y = y1 + y2\n",
        "\n",
        "# 벡터의 내적 계산 (dot product)\n",
        "dot_product = x1 * x2 + y1 * y2\n",
        "\n",
        "# 벡터의 외적 계산 (cross product)\n",
        "# 2차원 벡터의 외적은 스칼라 값으로, z축 방향의 크기를 나타냅니다.\n",
        "cross_product = x1 * y2 - y1 * x2\n",
        "\n",
        "# 결과 출력\n",
        "print(\"\\n벡터 1:\", x1, \"i +\", y1, \"j\")\n",
        "print(\"벡터2:\", x2, \"i +\", y2, \"j\")\n",
        "print(\"\\n벡터의 합:\", sum_x, \"i +\", sum_y, \"j\")\n",
        "print(\"벡터의 내적:\", dot_product)\n",
        "print(\"벡터의 외적:\", cross_product)"
      ]
    }
  ]
}