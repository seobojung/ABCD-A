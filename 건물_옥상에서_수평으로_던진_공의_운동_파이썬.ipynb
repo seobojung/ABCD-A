{
  "nbformat": 4,
  "nbformat_minor": 0,
  "metadata": {
    "colab": {
      "provenance": [],
      "authorship_tag": "ABX9TyMjX1u6EPG1jXllIXi4bqw0",
      "include_colab_link": true
    },
    "kernelspec": {
      "name": "python3",
      "display_name": "Python 3"
    },
    "language_info": {
      "name": "python"
    }
  },
  "cells": [
    {
      "cell_type": "markdown",
      "metadata": {
        "id": "view-in-github",
        "colab_type": "text"
      },
      "source": [
        "<a href=\"https://colab.research.google.com/github/seobojung/ABCD-A/blob/20250407/%EA%B1%B4%EB%AC%BC_%EC%98%A5%EC%83%81%EC%97%90%EC%84%9C_%EC%88%98%ED%8F%89%EC%9C%BC%EB%A1%9C_%EB%8D%98%EC%A7%84_%EA%B3%B5%EC%9D%98_%EC%9A%B4%EB%8F%99_%ED%8C%8C%EC%9D%B4%EC%8D%AC.ipynb\" target=\"_parent\"><img src=\"https://colab.research.google.com/assets/colab-badge.svg\" alt=\"Open In Colab\"/></a>"
      ]
    },
    {
      "cell_type": "code",
      "execution_count": 18,
      "metadata": {
        "colab": {
          "base_uri": "https://localhost:8080/"
        },
        "id": "ozoXpZCvSCVi",
        "outputId": "05ee4551-53b4-41aa-e588-d2887403761e"
      },
      "outputs": [
        {
          "output_type": "stream",
          "name": "stdout",
          "text": [
            "공이 떨어지기까지 걸린 시간 (초)을 입력하세요(예: 2):2\n",
            "수평 거리 (m)를 입력하세요(예: 20):20\n",
            "\n",
            "[결과]\n",
            "a) 공의 처음속도 크기: 10.00 m/s\n",
            "b) 건물 높이: 19.62 m\n",
            "c) 충돌 순간 속도 크기: 22.02 m/s\n",
            "   충돌 순간 속도 방향 (수평선과 이루는 각도): 62.99도\n"
          ]
        }
      ],
      "source": [
        "import math\n",
        "\n",
        "t = float(input(\"공이 떨어지기까지 걸린 시간 (초)을 입력하세요(예: 2):\"))\n",
        "x = float(input(\"수평 거리 (m)를 입력하세요(예: 20):\"))\n",
        "g = 9.81\n",
        "a = -g\n",
        "y0 = 0\n",
        "v0y = 0\n",
        "\n",
        "v0x = x / t\n",
        "\n",
        "y = y0 + v0y * t + 1/2 * g * t * t\n",
        "\n",
        "vx = v0x\n",
        "\n",
        "vy = v0y + g * t\n",
        "\n",
        "v = math.sqrt(vx * vx + vy * vy)\n",
        "\n",
        "theta_rad = math.atan(vy/vx)\n",
        "theta_deg = math.degrees(theta_rad)\n",
        "\n",
        "print(f\"\\n[결과]\")\n",
        "\n",
        "print(f\"a) 공의 처음속도 크기: {v0x:.2f} m/s\")\n",
        "\n",
        "print(f\"b) 건물 높이: {y:.2f} m\")\n",
        "\n",
        "print(f\"c) 충돌 순간 속도 크기: {v:.2f} m/s\")\n",
        "\n",
        "print(f\"   충돌 순간 속도 방향 (수평선과 이루는 각도): {theta_deg:.2f}도\")"
      ]
    }
  ]
}