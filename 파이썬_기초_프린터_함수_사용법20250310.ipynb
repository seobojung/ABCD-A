{
  "nbformat": 4,
  "nbformat_minor": 0,
  "metadata": {
    "colab": {
      "provenance": [],
      "authorship_tag": "ABX9TyO9x1x4V9kXhnGFp+Ewf18/",
      "include_colab_link": true
    },
    "kernelspec": {
      "name": "python3",
      "display_name": "Python 3"
    },
    "language_info": {
      "name": "python"
    }
  },
  "cells": [
    {
      "cell_type": "markdown",
      "metadata": {
        "id": "view-in-github",
        "colab_type": "text"
      },
      "source": [
        "<a href=\"https://colab.research.google.com/github/seobojung/ABCD-A/blob/20250310/%ED%8C%8C%EC%9D%B4%EC%8D%AC_%EA%B8%B0%EC%B4%88_%ED%94%84%EB%A6%B0%ED%84%B0_%ED%95%A8%EC%88%98_%EC%82%AC%EC%9A%A9%EB%B2%9520250310.ipynb\" target=\"_parent\"><img src=\"https://colab.research.google.com/assets/colab-badge.svg\" alt=\"Open In Colab\"/></a>"
      ]
    },
    {
      "cell_type": "code",
      "execution_count": 4,
      "metadata": {
        "id": "1VsPAm_tKukU",
        "colab": {
          "base_uri": "https://localhost:8080/"
        },
        "outputId": "8c9de786-fc72-48c7-ab89-7912d21087c1"
      },
      "outputs": [
        {
          "output_type": "stream",
          "name": "stdout",
          "text": [
            "Hello\n",
            "hello everyone\n",
            "helloeveryone\n"
          ]
        }
      ],
      "source": [
        "print(\"Hello\")\n",
        "print('hello', 'everyone')\n",
        "print('hello'+'everyone')"
      ]
    },
    {
      "cell_type": "code",
      "source": [
        "print(\"hello\", end=' ')\n",
        "print('test')"
      ],
      "metadata": {
        "colab": {
          "base_uri": "https://localhost:8080/"
        },
        "id": "J8UPDOfsLg-w",
        "outputId": "b57ce362-7d88-44fb-bb50-7f6be6e0f841"
      },
      "execution_count": 7,
      "outputs": [
        {
          "output_type": "stream",
          "name": "stdout",
          "text": [
            "hello test\n"
          ]
        }
      ]
    },
    {
      "cell_type": "code",
      "source": [
        "a=123\n",
        "b='hello'\n",
        "print(a,b)\n",
        "print(a,456,b,'world')"
      ],
      "metadata": {
        "colab": {
          "base_uri": "https://localhost:8080/"
        },
        "id": "waQDDf8eMDgO",
        "outputId": "75b4f106-af8e-411b-8c83-4e313126cec5"
      },
      "execution_count": 8,
      "outputs": [
        {
          "output_type": "stream",
          "name": "stdout",
          "text": [
            "123 hello\n",
            "123 456 hello world\n"
          ]
        }
      ]
    },
    {
      "cell_type": "code",
      "source": [
        "print('Hello \"python\"')\n",
        "print(\"Hello 'python'\")\n",
        "print('Hello', 'python!')\n",
        "print('Hello'+'python!')"
      ],
      "metadata": {
        "colab": {
          "base_uri": "https://localhost:8080/"
        },
        "id": "C_5LDMSiN9ir",
        "outputId": "dcd6ed95-9c41-40f8-97ea-685871b28418"
      },
      "execution_count": 9,
      "outputs": [
        {
          "output_type": "stream",
          "name": "stdout",
          "text": [
            "Hello \"python\"\n",
            "Hello 'python'\n",
            "Hello python!\n",
            "Hellopython!\n"
          ]
        }
      ]
    },
    {
      "cell_type": "code",
      "source": [
        "print(\"화면에 직접 출력\")\n",
        "print('ab\\'c')\n",
        "print(\"doesn't\")\n",
        "print('does')\n",
        "print('dosent\\'t')\n",
        "print(\"'string'\")\n",
        "print(\"\\'string\\'\")\n",
        "print('\"string\"')"
      ],
      "metadata": {
        "colab": {
          "base_uri": "https://localhost:8080/"
        },
        "id": "oyOqLEGhPJMj",
        "outputId": "c6c6de18-9df4-4c63-f0ca-d013d0ae78e3"
      },
      "execution_count": 11,
      "outputs": [
        {
          "output_type": "stream",
          "name": "stdout",
          "text": [
            "화면에 직접 출력\n",
            "ab'c\n",
            "doesn't\n",
            "does\n",
            "dosent't\n",
            "'string'\n",
            "'string'\n",
            "\"string\"\n"
          ]
        }
      ]
    },
    {
      "cell_type": "code",
      "source": [
        "s1='화면에 직접 출력'\n",
        "s2='ab\\'c'\n",
        "s3='does'\n",
        "print(s1)\n",
        "print(s2)\n",
        "print(s3)\n",
        "print(s1[0])\n",
        "print(s2[1])\n",
        "print(s3[1:3])\n",
        "print(s3[-1])\n",
        "print(s3[-2])"
      ],
      "metadata": {
        "colab": {
          "base_uri": "https://localhost:8080/"
        },
        "id": "8MhsP_ZNQKcL",
        "outputId": "870c01da-01c3-47c4-e24c-2d73ab8ec25e"
      },
      "execution_count": 14,
      "outputs": [
        {
          "output_type": "stream",
          "name": "stdout",
          "text": [
            "화면에 직접 출력\n",
            "ab'c\n",
            "does\n",
            "화\n",
            "b\n",
            "oe\n",
            "s\n",
            "e\n"
          ]
        }
      ]
    },
    {
      "cell_type": "code",
      "source": [
        "a=2\n",
        "b=3.14\n",
        "c=a+b\n",
        "print(a)\n",
        "print(b)\n",
        "print(c)\n",
        "print(round(c,2))\n",
        "print(\"%.2f\"%(c))\n",
        "print(a+b)\n",
        "print(a,b,a+b,c)\n",
        "d=1e2\n",
        "e=1e-2\n",
        "print(d)\n",
        "print(e)"
      ],
      "metadata": {
        "colab": {
          "base_uri": "https://localhost:8080/"
        },
        "id": "lMhy9dukRZwc",
        "outputId": "808810d4-bf1b-40e8-ba46-9a59f25abba7"
      },
      "execution_count": 18,
      "outputs": [
        {
          "output_type": "stream",
          "name": "stdout",
          "text": [
            "2\n",
            "3.14\n",
            "5.140000000000001\n",
            "5.14\n",
            "5.14\n",
            "5.140000000000001\n",
            "2 3.14 5.140000000000001 5.140000000000001\n",
            "100.0\n",
            "0.01\n"
          ]
        }
      ]
    },
    {
      "cell_type": "code",
      "source": [
        "item1='사과'\n",
        "price1= 1000\n",
        "item2='바나나'\n",
        "price2= 500\n",
        "print(item1, price1)\n",
        "print(item2, price2)\n",
        "\n",
        "str1= '{0}은 {1}원 입니다.'\n",
        "print(str1.format(item1, price1))\n",
        "print(str1.format(item2, price2))\n",
        "\n",
        "print(item1, price1, sep=',', end='/')\n",
        "print(item2, price2)\n",
        "\n",
        "str2= '%s는 %d원 입니다.'\n",
        "print(str2%(item1, price1))\n",
        "print(str2%(item2, price2))"
      ],
      "metadata": {
        "colab": {
          "base_uri": "https://localhost:8080/"
        },
        "id": "u6Rr9MtsSmIY",
        "outputId": "e21f12c0-3530-46f7-af13-1323f0df71bf"
      },
      "execution_count": 29,
      "outputs": [
        {
          "output_type": "stream",
          "name": "stdout",
          "text": [
            "사과 1000\n",
            "바나나 500\n",
            "사과은 1000원 입니다.\n",
            "바나나은 500원 입니다.\n",
            "사과,1000/바나나 500\n",
            "사과는 1000원 입니다.\n",
            "바나나는 500원 입니다.\n"
          ]
        }
      ]
    }
  ]
}