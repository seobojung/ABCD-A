{
  "nbformat": 4,
  "nbformat_minor": 0,
  "metadata": {
    "colab": {
      "provenance": [],
      "authorship_tag": "ABX9TyP8rAEbz+O8qznv6365c8gi",
      "include_colab_link": true
    },
    "kernelspec": {
      "name": "python3",
      "display_name": "Python 3"
    },
    "language_info": {
      "name": "python"
    }
  },
  "cells": [
    {
      "cell_type": "markdown",
      "metadata": {
        "id": "view-in-github",
        "colab_type": "text"
      },
      "source": [
        "<a href=\"https://colab.research.google.com/github/seobojung/ABCD-A/blob/20250403/%EA%B7%B9%EC%A2%8C%ED%91%9C_%3E%EC%A7%81%EA%B5%90%EC%A2%8C%ED%91%9C.ipynb\" target=\"_parent\"><img src=\"https://colab.research.google.com/assets/colab-badge.svg\" alt=\"Open In Colab\"/></a>"
      ]
    },
    {
      "cell_type": "code",
      "execution_count": null,
      "metadata": {
        "id": "Y7s6Sfc8xIBp"
      },
      "outputs": [],
      "source": [
        "#include<stdio.h>\n",
        "#include<math.h>\n",
        "#define PI 3.14159265358979323846\n",
        "\n",
        "int main() {\n",
        "\tdouble r, x, y, angle;\n",
        "\n",
        "\tprintf(\"극좌표를 입력하세요.\");\n",
        "\tscanf_s(\"%lf %lf\", &r, &angle);\n",
        "\n",
        "\tdouble radian = angle * (PI / 180.0);\n",
        "\n",
        "\tx = r * cos(radian);\n",
        "\ty = r * sin(radian);\n",
        "\n",
        "\tprintf(\" x = %.2f, y = %.2f \\n\", x, y);\n",
        "}"
      ]
    }
  ]
}