{
  "nbformat": 4,
  "nbformat_minor": 0,
  "metadata": {
    "colab": {
      "provenance": [],
      "authorship_tag": "ABX9TyPBmqLs7EBVkv4nbSj9mQkI",
      "include_colab_link": true
    },
    "kernelspec": {
      "name": "python3",
      "display_name": "Python 3"
    },
    "language_info": {
      "name": "python"
    }
  },
  "cells": [
    {
      "cell_type": "markdown",
      "metadata": {
        "id": "view-in-github",
        "colab_type": "text"
      },
      "source": [
        "<a href=\"https://colab.research.google.com/github/seobojung/ABCD-A/blob/20250403/%EC%A7%81%EA%B5%90%EC%A2%8C%ED%91%9C_%3E%EA%B7%B9%EC%A2%8C%ED%91%9C.ipynb\" target=\"_parent\"><img src=\"https://colab.research.google.com/assets/colab-badge.svg\" alt=\"Open In Colab\"/></a>"
      ]
    },
    {
      "cell_type": "code",
      "execution_count": null,
      "metadata": {
        "id": "2SJHz2dGxXV6"
      },
      "outputs": [],
      "source": [
        "#include <stdio.h>\n",
        "#include <math.h>\n",
        "int main() {\n",
        "\tdouble x, y, r;\n",
        "\tdouble theta_radian;\n",
        "\n",
        "\n",
        "\tprintf(\"x값을 입력하세요.\");\n",
        "\tscanf_s(\"%lf\", &x);\n",
        "\tprintf(\"y값을 입력하세요.\");\n",
        "\tscanf_s(\"%lf\", &y);\n",
        "\n",
        "\tr = sqrt(x * x + y * y);\n",
        "\ttheta_radian = atan2(y, x);\n",
        "\n",
        "\tprintf(\"r = %lf, theta = %lf \\n\", r, theta_radian);\n",
        "}"
      ]
    }
  ]
}